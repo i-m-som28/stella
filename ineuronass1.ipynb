{
  "nbformat": 4,
  "nbformat_minor": 0,
  "metadata": {
    "colab": {
      "name": "ineuronass1.ipynb",
      "provenance": [],
      "authorship_tag": "ABX9TyP0+rQXu2CRn8C9/0g2gKsY",
      "include_colab_link": true
    },
    "kernelspec": {
      "name": "python3",
      "display_name": "Python 3"
    }
  },
  "cells": [
    {
      "cell_type": "markdown",
      "metadata": {
        "id": "view-in-github",
        "colab_type": "text"
      },
      "source": [
        "<a href=\"https://colab.research.google.com/github/i-m-som28/stella/blob/master/ineuronass1.ipynb\" target=\"_parent\"><img src=\"https://colab.research.google.com/assets/colab-badge.svg\" alt=\"Open In Colab\"/></a>"
      ]
    },
    {
      "cell_type": "markdown",
      "metadata": {
        "id": "Ri7vdzC-NnZT",
        "colab_type": "text"
      },
      "source": [
        "![alt text](https://drive.google.com/open?id=1KJ8Ll51bJUEKcOm9Pqc4Kz58kvwhsnHG)\n"
      ]
    },
    {
      "cell_type": "code",
      "metadata": {
        "id": "_lAFp8jSmrPO",
        "colab_type": "code",
        "outputId": "29c7483e-6c35-4a97-a5c0-dc5989120e6c",
        "colab": {
          "base_uri": "https://localhost:8080/",
          "height": 70
        }
      },
      "source": [
        "print(\"The numbers divisable by 7 but not multiplied by 5 within range 2000 to 3200 are:\")\n",
        "for i in range(2000,3201):\n",
        "  if(i%7 == 0 and i%5 != 0):\n",
        "    print(i,end=',')\n"
      ],
      "execution_count": 0,
      "outputs": [
        {
          "output_type": "stream",
          "text": [
            "The numbers divisable by 7 but not multiplied by 5 within range 2000 to 3200 are:\n",
            "2002,2009,2016,2023,2037,2044,2051,2058,2072,2079,2086,2093,2107,2114,2121,2128,2142,2149,2156,2163,2177,2184,2191,2198,2212,2219,2226,2233,2247,2254,2261,2268,2282,2289,2296,2303,2317,2324,2331,2338,2352,2359,2366,2373,2387,2394,2401,2408,2422,2429,2436,2443,2457,2464,2471,2478,2492,2499,2506,2513,2527,2534,2541,2548,2562,2569,2576,2583,2597,2604,2611,2618,2632,2639,2646,2653,2667,2674,2681,2688,2702,2709,2716,2723,2737,2744,2751,2758,2772,2779,2786,2793,2807,2814,2821,2828,2842,2849,2856,2863,2877,2884,2891,2898,2912,2919,2926,2933,2947,2954,2961,2968,2982,2989,2996,3003,3017,3024,3031,3038,3052,3059,3066,3073,3087,3094,3101,3108,3122,3129,3136,3143,3157,3164,3171,3178,3192,3199,"
          ],
          "name": "stdout"
        }
      ]
    },
    {
      "cell_type": "code",
      "metadata": {
        "id": "jdOslZlxoGjy",
        "colab_type": "code",
        "outputId": "31b74590-d84a-43f1-a091-c4c7fed16407",
        "colab": {
          "base_uri": "https://localhost:8080/",
          "height": 84
        }
      },
      "source": [
        "'''accept the user's first and last name and then getting them printed in\n",
        "the the reverse order with a space between first name and last name'''\n",
        "\n",
        "def reverse(string):\n",
        "  string=string[::-1]\n",
        "  return string\n",
        "\n",
        "first_name=input(\"Users first name is:\")\n",
        "last_name=input(\"Users last name is:\")\n",
        "name=first_name+\" \"+last_name\n",
        "print('users original name is:',name)\n",
        "\n",
        "rev_name=reverse(name)\n",
        "\n",
        "print(\"Users Reversed First and Last Name : \",rev_name,end=\" \")"
      ],
      "execution_count": 0,
      "outputs": [
        {
          "output_type": "stream",
          "text": [
            "Users first name is:Somasree\n",
            "Users last name is:Ghosh\n",
            "users original name is: Somasree Ghosh\n",
            "Users Reversed First and Last Name :  hsohG eersamoS "
          ],
          "name": "stdout"
        }
      ]
    },
    {
      "cell_type": "code",
      "metadata": {
        "id": "Kz_2dko_wWeg",
        "colab_type": "code",
        "outputId": "240f198b-9bd3-4031-8764-6c44042c3f2d",
        "colab": {
          "base_uri": "https://localhost:8080/",
          "height": 34
        }
      },
      "source": [
        "''' To calculate the volume of a sphere '''\n",
        "diameter=12\n",
        "r=diameter/2\n",
        "pi=22/7\n",
        "vol=4/3*pi*r*r*r\n",
        "print(\"The volume of sphere is: \",vol)"
      ],
      "execution_count": 0,
      "outputs": [
        {
          "output_type": "stream",
          "text": [
            "The volume of sphere is:  905.142857142857\n"
          ],
          "name": "stdout"
        }
      ]
    },
    {
      "cell_type": "code",
      "metadata": {
        "id": "iYtY1mmW3Lz9",
        "colab_type": "code",
        "outputId": "83dd9cf1-608f-4957-a713-dea5f32880d5",
        "colab": {
          "base_uri": "https://localhost:8080/",
          "height": 67
        }
      },
      "source": [
        "'''Write a program which accepts a sequence of comma-separated numbers from console and generate a list'''\n",
        "num=input(\"Enter Multiple Numbers seperated by comma :\\n\").split(\",\")\n",
        "list_num=list(num)\n",
        "print(list_num)"
      ],
      "execution_count": 0,
      "outputs": [
        {
          "output_type": "stream",
          "text": [
            "Enter Multiple Numbers seperated by comma :\n",
            "1,2,3,4,5,6,8,9\n",
            "['1', '2', '3', '4', '5', '6', '8', '9']\n"
          ],
          "name": "stdout"
        }
      ]
    },
    {
      "cell_type": "code",
      "metadata": {
        "id": "UfapXIwTy5kg",
        "colab_type": "code",
        "outputId": "e46d2eee-a7ba-4e9c-b49a-f88e75fb2b4c",
        "colab": {
          "base_uri": "https://localhost:8080/",
          "height": 218
        }
      },
      "source": [
        "'''Create the below pattern using nested for loop in Python'''\n",
        "n=6\n",
        "for i in range(n):\n",
        "  for j in range(i):\n",
        "    print('*',end=' ')\n",
        "  print('')\n",
        "for i in range(n,0,-1):\n",
        "  for j in range(i):\n",
        "    print('*',end=\" \")\n",
        "  print(\"\")\n",
        "\n"
      ],
      "execution_count": 7,
      "outputs": [
        {
          "output_type": "stream",
          "text": [
            "\n",
            "* \n",
            "* * \n",
            "* * * \n",
            "* * * * \n",
            "* * * * * \n",
            "* * * * * * \n",
            "* * * * * \n",
            "* * * * \n",
            "* * * \n",
            "* * \n",
            "* \n"
          ],
          "name": "stdout"
        }
      ]
    },
    {
      "cell_type": "code",
      "metadata": {
        "id": "7DgkYxx5l7U8",
        "colab_type": "code",
        "outputId": "82e5f4c4-8023-4d07-83e8-526be6236aa8",
        "colab": {
          "base_uri": "https://localhost:8080/",
          "height": 50
        }
      },
      "source": [
        "'''to reverse the word taken as input from user'''\n",
        "word=input(\"enter the word:\")\n",
        "def reverse(string):\n",
        "  return string[::-1]\n",
        "rev_word=reverse(word)\n",
        "print(\"the reversed word is:\",rev_word)"
      ],
      "execution_count": 0,
      "outputs": [
        {
          "output_type": "stream",
          "text": [
            "enter the word:AcadGild\n",
            "the reversed word is: dliGdacA\n"
          ],
          "name": "stdout"
        }
      ]
    },
    {
      "cell_type": "code",
      "metadata": {
        "id": "ZR7Pwqj54RSL",
        "colab_type": "code",
        "colab": {
          "base_uri": "https://localhost:8080/",
          "height": 84
        },
        "outputId": "406e0ec5-bad9-4057-9eb2-aee44db0464e"
      },
      "source": [
        "print(\"WE, THE PEOPLE OF INDIA, \\n\\t having solemnly resolved to constitute India into a SOVEREIGN,\\n\\t\\t SOCIALIST, SECULAR, DEMOCRATIC REPUBLIC \\n\\t\\t and to secure to all its citizens\")"
      ],
      "execution_count": 3,
      "outputs": [
        {
          "output_type": "stream",
          "text": [
            "WE, THE PEOPLE OF INDIA, \n",
            "\t having solemnly resolved to constitute India into a SOVEREIGN,\n",
            "\t\t SOCIALIST, SECULAR, DEMOCRATIC REPUBLIC \n",
            "\t\t and to secure to all its citizens\n"
          ],
          "name": "stdout"
        }
      ]
    },
    {
      "cell_type": "code",
      "metadata": {
        "id": "iqBdFTBIHWPl",
        "colab_type": "code",
        "colab": {}
      },
      "source": [
        ""
      ],
      "execution_count": 0,
      "outputs": []
    }
  ]
}